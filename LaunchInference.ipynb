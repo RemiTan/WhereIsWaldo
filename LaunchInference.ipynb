{
 "cells": [
  {
   "cell_type": "code",
   "execution_count": 1,
   "metadata": {},
   "outputs": [
    {
     "name": "stderr",
     "output_type": "stream",
     "text": [
      "Matplotlib created a temporary config/cache directory at /tmp/matplotlib-r0n9gig7 because the default path (/home/jetson/.config/matplotlib) is not a writable directory; it is highly recommended to set the MPLCONFIGDIR environment variable to a writable directory, in particular to speed up the import of Matplotlib and to better support multiprocessing.\n",
      "Matplotlib is building the font cache; this may take a moment.\n"
     ]
    },
    {
     "name": "stdout",
     "output_type": "stream",
     "text": [
      "WARNING ⚠️ Python 3.7.0 is required by YOLOv5, but Python 3.6.9 is currently installed\n"
     ]
    },
    {
     "name": "stderr",
     "output_type": "stream",
     "text": [
      "YOLOv5 🚀 v7.0-120-g3e55763 Python-3.6.9 torch-1.10.0a0+git36449ea CUDA:0 (NVIDIA Tegra X1, 3964MiB)\n",
      "\n",
      "Fusing layers... \n",
      "Model summary: 157 layers, 7012822 parameters, 0 gradients\n",
      "Adding AutoShape... \n"
     ]
    },
    {
     "name": "stdout",
     "output_type": "stream",
     "text": [
      "\n",
      "\n",
      "Device Used: cuda\n"
     ]
    }
   ],
   "source": [
    "#Chargement du model\n",
    "from WaldoDectection import *\n",
    "detection = WaldoDetection(\"video_test_projet.avi\")"
   ]
  },
  {
   "cell_type": "code",
   "execution_count": 2,
   "metadata": {},
   "outputs": [
    {
     "data": {
      "application/vnd.jupyter.widget-view+json": {
       "model_id": "1b972a05321e4bf0aebba9b799ded2ce",
       "version_major": 2,
       "version_minor": 0
      },
      "text/plain": [
       "VBox(children=(Image(value=b'', format='jpg', height='480', layout=\"Layout(align_self='center')\", width='640')…"
      ]
     },
     "metadata": {},
     "output_type": "display_data"
    },
    {
     "data": {
      "application/vnd.jupyter.widget-view+json": {
       "model_id": "ffee96f551514455a13181e68abed4f5",
       "version_major": 2,
       "version_minor": 0
      },
      "text/plain": [
       "Output()"
      ]
     },
     "metadata": {},
     "output_type": "display_data"
    },
    {
     "name": "stdout",
     "output_type": "stream",
     "text": [
      "open camera\n"
     ]
    },
    {
     "name": "stderr",
     "output_type": "stream",
     "text": [
      "WARNING ⚠️ NMS time limit 0.550s exceeded\n",
      "WARNING ⚠️ NMS time limit 0.550s exceeded\n"
     ]
    },
    {
     "name": "stdout",
     "output_type": "stream",
     "text": [
      "SAVED\n",
      "SAVED\n",
      "SAVED\n",
      "SAVED\n",
      "SAVED\n",
      "SAVED\n",
      "SAVED\n",
      "SAVED\n",
      "SAVED\n",
      "SAVED\n",
      "SAVED\n",
      "SAVED\n",
      "SAVED\n",
      "SAVED\n",
      "SAVED\n",
      "SAVED\n",
      "SAVED\n",
      "SAVED\n",
      "SAVED\n",
      "SAVED\n",
      "SAVED\n",
      "SAVED\n",
      "SAVED\n",
      "SAVED\n",
      "SAVED\n",
      "SAVED\n",
      "SAVED\n",
      "SAVED\n",
      "SAVED\n",
      "SAVED\n",
      "SAVED\n",
      "SAVED\n",
      "SAVED\n",
      "SAVED\n",
      "SAVED\n",
      "SAVED\n",
      "SAVED\n",
      "SAVED\n",
      "SAVED\n",
      "SAVED\n",
      "SAVED\n",
      "SAVED\n",
      "SAVED\n",
      "SAVED\n",
      "SAVED\n",
      "SAVED\n",
      "SAVED\n",
      "SAVED\n",
      "SAVED\n",
      "SAVED\n",
      "SAVED\n",
      "SAVED\n",
      "SAVED\n",
      "SAVED\n",
      "SAVED\n",
      "SAVED\n",
      "SAVED\n",
      "SAVED\n",
      "SAVED\n",
      "SAVED\n",
      "SAVED\n",
      "SAVED\n",
      "SAVED\n",
      "SAVED\n",
      "SAVED\n",
      "SAVED\n",
      "SAVED\n",
      "SAVED\n",
      "SAVED\n",
      "SAVED\n",
      "SAVED\n",
      "SAVED\n",
      "SAVED\n",
      "SAVED\n",
      "SAVED\n",
      "SAVED\n",
      "SAVED\n",
      "SAVED\n",
      "SAVED\n",
      "SAVED\n",
      "SAVED\n",
      "SAVED\n",
      "SAVED\n",
      "SAVED\n",
      "SAVED\n",
      "SAVED\n",
      "SAVED\n",
      "SAVED\n",
      "SAVED\n",
      "SAVED\n",
      "SAVED\n",
      "SAVED\n",
      "SAVED\n",
      "SAVED\n",
      "SAVED\n",
      "SAVED\n"
     ]
    }
   ],
   "source": [
    "import threading\n",
    "\n",
    "display(controls_box,output)\n",
    "threading.Thread(target=detection, ).start()"
   ]
  },
  {
   "cell_type": "code",
   "execution_count": 1,
   "metadata": {},
   "outputs": [
    {
     "name": "stderr",
     "output_type": "stream",
     "text": [
      "Matplotlib created a temporary config/cache directory at /tmp/matplotlib-_9hf3vng because the default path (/home/jetson/.config/matplotlib) is not a writable directory; it is highly recommended to set the MPLCONFIGDIR environment variable to a writable directory, in particular to speed up the import of Matplotlib and to better support multiprocessing.\n"
     ]
    },
    {
     "name": "stdout",
     "output_type": "stream",
     "text": [
      "1.10.0a0+git36449ea\n",
      "True\n"
     ]
    }
   ],
   "source": [
    "import torch\n",
    "print(torch.__version__)\n",
    "print(torch.cuda.is_available())"
   ]
  }
 ],
 "metadata": {
  "kernelspec": {
   "display_name": "Python 3",
   "language": "python",
   "name": "python3"
  },
  "language_info": {
   "codemirror_mode": {
    "name": "ipython",
    "version": 3
   },
   "file_extension": ".py",
   "mimetype": "text/x-python",
   "name": "python",
   "nbconvert_exporter": "python",
   "pygments_lexer": "ipython3",
   "version": "3.6.9"
  }
 },
 "nbformat": 4,
 "nbformat_minor": 4
}
