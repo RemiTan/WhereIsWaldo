{
 "cells": [
  {
   "cell_type": "markdown",
   "metadata": {},
   "source": [
    "Fichier de tests - Premiers essais"
   ]
  },
  {
   "cell_type": "code",
   "execution_count": 2,
   "metadata": {},
   "outputs": [],
   "source": [
    "import threading\n",
    "import time\n",
    "from echelle import *\n",
    "\n",
    "import inspect\n",
    "import ctypes\n",
    "\n",
    "from Arm_Lib import Arm_Device\n",
    "Arm = Arm_Device()\n",
    "s_time=1000"
   ]
  },
  {
   "cell_type": "code",
   "execution_count": null,
   "metadata": {},
   "outputs": [],
   "source": []
  },
  {
   "cell_type": "code",
   "execution_count": 3,
   "metadata": {},
   "outputs": [],
   "source": [
    "gardeAVous(Arm)"
   ]
  },
  {
   "cell_type": "code",
   "execution_count": 4,
   "metadata": {},
   "outputs": [],
   "source": [
    "#position Extrême\n",
    "Arm.Arm_serial_servo_write(1, 90, s_time)\n",
    "time.sleep(0.01)\n",
    "Arm.Arm_serial_servo_write(2, 0, s_time)\n",
    "time.sleep(0.01)\n",
    "Arm.Arm_serial_servo_write(3, 90, s_time)\n",
    "time.sleep(0.01)\n",
    "Arm.Arm_serial_servo_write(4, 70, s_time)\n",
    "time.sleep(0.01)\n",
    "Arm.Arm_serial_servo_write(5, 90, s_time)\n",
    "time.sleep(0.01)\n",
    "Arm.Arm_serial_servo_write(6, 170, s_time)\n",
    "time.sleep(0.01)"
   ]
  },
  {
   "cell_type": "code",
   "execution_count": 5,
   "metadata": {},
   "outputs": [],
   "source": [
    "#position proche\n",
    "gardeAVous(Arm)\n",
    "time.sleep(1)\n",
    "Arm.Arm_serial_servo_write(1, 90, s_time)\n",
    "time.sleep(0.01)\n",
    "Arm.Arm_serial_servo_write(2, 95, s_time)\n",
    "time.sleep(0.01)\n",
    "Arm.Arm_serial_servo_write(3, 0, s_time)\n",
    "time.sleep(0.01)\n",
    "Arm.Arm_serial_servo_write(4, 0, s_time)\n",
    "time.sleep(0.01)\n",
    "Arm.Arm_serial_servo_write(5, 260, s_time)\n",
    "time.sleep(0.01)\n",
    "Arm.Arm_serial_servo_write(6, 170, s_time)\n",
    "time.sleep(0.01)"
   ]
  },
  {
   "cell_type": "code",
   "execution_count": 6,
   "metadata": {},
   "outputs": [],
   "source": [
    "gardeAVous(Arm)"
   ]
  },
  {
   "cell_type": "code",
   "execution_count": 7,
   "metadata": {},
   "outputs": [],
   "source": [
    "def observation() :\n",
    "    Arm.Arm_serial_servo_write6_array([70, 125, 0, 0, 90, 30],s_time)"
   ]
  },
  {
   "cell_type": "code",
   "execution_count": 8,
   "metadata": {},
   "outputs": [],
   "source": [
    "gardeAVous(Arm)"
   ]
  },
  {
   "cell_type": "code",
   "execution_count": 9,
   "metadata": {},
   "outputs": [],
   "source": [
    "observation()"
   ]
  },
  {
   "cell_type": "code",
   "execution_count": 10,
   "metadata": {},
   "outputs": [],
   "source": [
    "Arm.Arm_serial_servo_write6_array([85, 90, 0, 0, 270, 110],s_time)"
   ]
  },
  {
   "cell_type": "code",
   "execution_count": 11,
   "metadata": {},
   "outputs": [],
   "source": [
    "allerADistance(Arm, 14, 70)"
   ]
  },
  {
   "cell_type": "code",
   "execution_count": 12,
   "metadata": {},
   "outputs": [],
   "source": [
    "allerADistance(Arm, 10, 65)"
   ]
  },
  {
   "cell_type": "code",
   "execution_count": 15,
   "metadata": {},
   "outputs": [],
   "source": [
    "allerADistance(Arm, 11, 67)"
   ]
  },
  {
   "cell_type": "code",
   "execution_count": null,
   "metadata": {},
   "outputs": [],
   "source": []
  }
 ],
 "metadata": {
  "kernelspec": {
   "display_name": "Python 3",
   "language": "python",
   "name": "python3"
  },
  "language_info": {
   "codemirror_mode": {
    "name": "ipython",
    "version": 3
   },
   "file_extension": ".py",
   "mimetype": "text/x-python",
   "name": "python",
   "nbconvert_exporter": "python",
   "pygments_lexer": "ipython3",
   "version": "3.6.9"
  }
 },
 "nbformat": 4,
 "nbformat_minor": 4
}
