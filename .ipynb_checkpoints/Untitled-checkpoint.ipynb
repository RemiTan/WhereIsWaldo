{
 "cells": [
  {
   "cell_type": "code",
   "execution_count": 4,
   "metadata": {},
   "outputs": [
    {
     "name": "stdout",
     "output_type": "stream",
     "text": [
      "WARNING: pip is being invoked by an old script wrapper. This will fail in a future version of pip.\n",
      "Please see https://github.com/pypa/pip/issues/5599 for advice on fixing the underlying issue.\n",
      "To avoid this problem you can invoke Python with '-m pip' instead of running pip directly.\n",
      "Defaulting to user installation because normal site-packages is not writeable\n",
      "\u001b[31mERROR: Could not find a version that satisfies the requirement gitpython>=3.1.30 (from versions: 0.1.7, 0.2.0b1, 0.3.0b1, 0.3.0b2, 0.3.1b2, 0.3.2rc1, 0.3.2, 0.3.2.1, 0.3.3, 0.3.4, 0.3.5, 0.3.6, 0.3.7, 1.0.0, 1.0.1, 1.0.2, 2.0.0, 2.0.1, 2.0.2, 2.0.3, 2.0.4, 2.0.5, 2.0.6, 2.0.7, 2.0.8, 2.0.9.dev0, 2.0.9.dev1, 2.0.9, 2.1.0, 2.1.1, 2.1.3, 2.1.4, 2.1.5, 2.1.6, 2.1.7, 2.1.8, 2.1.9, 2.1.10, 2.1.11, 2.1.12, 2.1.13, 2.1.14, 2.1.15, 3.0.0, 3.0.1, 3.0.2, 3.0.3, 3.0.4, 3.0.5, 3.0.6, 3.0.7, 3.0.8, 3.0.9, 3.1.0, 3.1.1, 3.1.2, 3.1.3, 3.1.4, 3.1.5, 3.1.6, 3.1.7, 3.1.8, 3.1.9, 3.1.10, 3.1.11, 3.1.12, 3.1.13, 3.1.14, 3.1.15, 3.1.16, 3.1.17, 3.1.18, 3.1.19, 3.1.20)\u001b[0m\n",
      "\u001b[31mERROR: No matching distribution found for gitpython>=3.1.30\u001b[0m\n"
     ]
    }
   ],
   "source": [
    "#!pip3 install -r ./yolov5/requirements.txt "
   ]
  },
  {
   "cell_type": "code",
   "execution_count": null,
   "metadata": {},
   "outputs": [],
   "source": [
    "model = 'General'\n",
    "posActuelle = 0"
   ]
  },
  {
   "cell_type": "code",
   "execution_count": null,
   "metadata": {},
   "outputs": [],
   "source": [
    "!python3 ./yolov5/detect.py"
   ]
  },
  {
   "cell_type": "code",
   "execution_count": null,
   "metadata": {},
   "outputs": [
    {
     "name": "stdout",
     "output_type": "stream",
     "text": [
      "WARNING: pip is being invoked by an old script wrapper. This will fail in a future version of pip.\n",
      "Please see https://github.com/pypa/pip/issues/5599 for advice on fixing the underlying issue.\n",
      "To avoid this problem you can invoke Python with '-m pip' instead of running pip directly.\n",
      "Defaulting to user installation because normal site-packages is not writeable\n",
      "Collecting opencv-python-headless\n",
      "  Downloading opencv-python-headless-4.7.0.72.tar.gz (91.1 MB)\n",
      "     |████                            | 11.5 MB 27 kB/s eta 0:48:39 "
     ]
    }
   ],
   "source": [
    "!pip3 install opencv-python-headless"
   ]
  },
  {
   "cell_type": "code",
   "execution_count": 1,
   "metadata": {},
   "outputs": [
    {
     "name": "stderr",
     "output_type": "stream",
     "text": [
      "Matplotlib created a temporary config/cache directory at /tmp/matplotlib-gxql7xm0 because the default path (/home/jetson/.config/matplotlib) is not a writable directory; it is highly recommended to set the MPLCONFIGDIR environment variable to a writable directory, in particular to speed up the import of Matplotlib and to better support multiprocessing.\n",
      "Matplotlib is building the font cache; this may take a moment.\n"
     ]
    },
    {
     "name": "stdout",
     "output_type": "stream",
     "text": [
      "WARNING ⚠️ Python 3.7.0 is required by YOLOv5, but Python 3.6.9 is currently installed\n"
     ]
    },
    {
     "name": "stderr",
     "output_type": "stream",
     "text": [
      "YOLOv5 🚀 v7.0-120-g3e55763 Python-3.6.9 torch-1.10.0a0+git36449ea CUDA:0 (NVIDIA Tegra X1, 3964MiB)\n",
      "\n",
      "Fusing layers... \n",
      "Model summary: 157 layers, 7012822 parameters, 0 gradients, 15.8 GFLOPs\n",
      "Adding AutoShape... \n"
     ]
    },
    {
     "name": "stdout",
     "output_type": "stream",
     "text": [
      "\n",
      "\n",
      "Device Used: cuda\n"
     ]
    }
   ],
   "source": [
    "#Chargement du model\n",
    "from test_projet import *\n",
    "detection = ObjectDetection(\"video_test_projet.avi\")"
   ]
  },
  {
   "cell_type": "code",
   "execution_count": 4,
   "metadata": {},
   "outputs": [
    {
     "data": {
      "application/vnd.jupyter.widget-view+json": {
       "model_id": "16523ab620504d429be34b8e05f309fb",
       "version_major": 2,
       "version_minor": 0
      },
      "text/plain": [
       "VBox(children=(Image(value=b'\\xff\\xd8\\xff\\xe0\\x00\\x10JFIF\\x00\\x01\\x01\\x00\\x00\\x01\\x00\\x01\\x00\\x00\\xff\\xdb\\x00C…"
      ]
     },
     "metadata": {},
     "output_type": "display_data"
    },
    {
     "data": {
      "application/vnd.jupyter.widget-view+json": {
       "model_id": "6f5425c92fa440b8bb67b27459370fdf",
       "version_major": 2,
       "version_minor": 0
      },
      "text/plain": [
       "Output()"
      ]
     },
     "metadata": {},
     "output_type": "display_data"
    },
    {
     "name": "stdout",
     "output_type": "stream",
     "text": [
      "open camera\n"
     ]
    },
    {
     "name": "stderr",
     "output_type": "stream",
     "text": [
      "Exception in thread Thread-8:\n",
      "Traceback (most recent call last):\n",
      "  File \"/usr/lib/python3.6/threading.py\", line 916, in _bootstrap_inner\n",
      "    self.run()\n",
      "  File \"/usr/lib/python3.6/threading.py\", line 864, in run\n",
      "    self._target(*self._args, **self._kwargs)\n",
      "  File \"/home/jetson/projet_p5/test_projet.py\", line 268, in __call__\n",
      "    if Detect == 1 or Pointage == 1:\n",
      "  File \"/home/jetson/projet_p5/test_projet.py\", line 105, in moveBras\n",
      "    row = coor[0]\n",
      "NameError: name 'coor' is not defined\n",
      "\n"
     ]
    }
   ],
   "source": [
    "import threading\n",
    "model='General'\n",
    "display(controls_box,output)\n",
    "threading.Thread(target=detection, ).start()"
   ]
  },
  {
   "cell_type": "code",
   "execution_count": 2,
   "metadata": {},
   "outputs": [
    {
     "data": {
      "application/vnd.jupyter.widget-view+json": {
       "model_id": "8756d6871d98477ab89448fbce004576",
       "version_major": 2,
       "version_minor": 0
      },
      "text/plain": [
       "VBox(children=(Image(value=b'\\xff\\xd8\\xff\\xe0\\x00\\x10JFIF\\x00\\x01\\x01\\x00\\x00\\x01\\x00\\x01\\x00\\x00\\xff\\xdb\\x00C…"
      ]
     },
     "metadata": {},
     "output_type": "display_data"
    },
    {
     "data": {
      "application/vnd.jupyter.widget-view+json": {
       "model_id": "dd987135bc054c90b5385f5b99c1fb31",
       "version_major": 2,
       "version_minor": 0
      },
      "text/plain": [
       "Output()"
      ]
     },
     "metadata": {},
     "output_type": "display_data"
    },
    {
     "name": "stdout",
     "output_type": "stream",
     "text": [
      "open camera\n"
     ]
    },
    {
     "name": "stderr",
     "output_type": "stream",
     "text": [
      "Exception in thread Thread-7:\n",
      "Traceback (most recent call last):\n",
      "  File \"/usr/lib/python3.6/threading.py\", line 916, in _bootstrap_inner\n",
      "    self.run()\n",
      "  File \"/usr/lib/python3.6/threading.py\", line 864, in run\n",
      "    self._target(*self._args, **self._kwargs)\n",
      "  File \"/home/jetson/projet_p5/test_projet.py\", line 296, in test_detection\n",
      "    k = moveBras()\n",
      "  File \"/home/jetson/projet_p5/test_projet.py\", line 102, in moveBras\n",
      "    time.sleep(0.5)\n",
      "AttributeError: 'builtin_function_or_method' object has no attribute 'sleep'\n",
      "\n"
     ]
    }
   ],
   "source": [
    "from test_projet import *\n",
    "\n",
    "import threading\n",
    "\n",
    "display(controls_box,output)\n",
    "threading.Thread(target=test_detection, ).start()"
   ]
  },
  {
   "cell_type": "code",
   "execution_count": 1,
   "metadata": {},
   "outputs": [
    {
     "name": "stdout",
     "output_type": "stream",
     "text": [
      "1.10.0a0+git36449ea\n",
      "True\n"
     ]
    }
   ],
   "source": [
    "import torch\n",
    "print(torch.__version__)\n",
    "print(torch.cuda.is_available())"
   ]
  },
  {
   "cell_type": "code",
   "execution_count": 2,
   "metadata": {},
   "outputs": [
    {
     "name": "stdout",
     "output_type": "stream",
     "text": [
      "total 30404\n",
      "drwxr-xr-x 43 jetson jetson    20480 Mar 24 14:45 .\n",
      "drwxr-xr-x  3 root   root       4096 Jan 28  2018 ..\n",
      "-rw-rw-r--  1 jetson jetson    17384 Sep 12  2022 12.xml\n",
      "-rw-rw-r--  1 jetson jetson    13209 Sep  8  2022 20220908-142400.jpg\n",
      "-rw-rw-r--  1 jetson jetson    25315 Sep  5  2022 25.xml\n",
      "drwxr-xr-x  6 jetson jetson     4096 Jan 13  2021 Arm\n",
      "-rw-------  1 jetson jetson    24642 Mar 24 11:29 .bash_history\n",
      "-rw-------  1 jetson jetson        0 Dec  1  2020 .bash_history-06173.tmp\n",
      "-rw-------  1 jetson jetson        0 Dec  1  2020 .bash_history-06314.tmp\n",
      "-rw-------  1 jetson jetson        0 Dec  1  2020 .bash_history-07641.tmp\n",
      "-rw-------  1 jetson jetson        0 Dec  1  2020 .bash_history-07903.tmp\n",
      "-rw-------  1 jetson jetson        0 Dec  3  2020 .bash_history-15938.tmp\n",
      "-rw-------  1 jetson jetson        0 Dec  1  2020 .bash_history-20422.tmp\n",
      "-rw-r--r--  1 jetson jetson      220 Jan 28  2018 .bash_logout\n",
      "-rw-r--r--  1 jetson jetson     4499 Dec 14  2020 .bashrc\n",
      "-rw-r--r--  1 jetson jetson     4185 Oct 28  2020 .bashrc-archiconda3.bak\n",
      "drwx------ 29 jetson jetson     4096 Mar 21 16:29 .cache\n",
      "drwx------  2 jetson jetson     4096 Jul 13  2022 .cat_installer\n",
      "drwxr-xr-x  5 jetson jetson     4096 Jul 22  2022 catkin_ws\n",
      "drwx------  3 jetson jetson     4096 Jan 28  2018 .compiz\n",
      "drwxr-xr-x  3 jetson jetson     4096 Oct 28  2020 .conda\n",
      "drwx------ 29 jetson jetson     4096 Mar 20 11:35 .config\n",
      "\u001b[Km--More--\u001b[m"
     ]
    }
   ],
   "source": [
    "!ls -la ~/ | more"
   ]
  },
  {
   "cell_type": "code",
   "execution_count": 2,
   "metadata": {},
   "outputs": [
    {
     "name": "stdout",
     "output_type": "stream",
     "text": [
      "WARNING: pip is being invoked by an old script wrapper. This will fail in a future version of pip.\n",
      "Please see https://github.com/pypa/pip/issues/5599 for advice on fixing the underlying issue.\n",
      "To avoid this problem you can invoke Python with '-m pip' instead of running pip directly.\n",
      "Defaulting to user installation because normal site-packages is not writeable\n",
      "Collecting torch==1.8.1\n",
      "  Using cached torch-1.8.1-cp36-cp36m-manylinux2014_aarch64.whl (45.3 MB)\n",
      "Requirement already satisfied: dataclasses in /usr/local/lib/python3.6/dist-packages (from torch==1.8.1) (0.8)\n",
      "Requirement already satisfied: typing-extensions in /usr/local/lib/python3.6/dist-packages (from torch==1.8.1) (4.1.1)\n",
      "Requirement already satisfied: numpy in /home/jetson/.local/lib/python3.6/site-packages (from torch==1.8.1) (1.19.2)\n",
      "Installing collected packages: torch\n",
      "  Attempting uninstall: torch\n",
      "    Found existing installation: torch 1.10.0a0+git36449ea\n",
      "    Uninstalling torch-1.10.0a0+git36449ea:\n",
      "      Successfully uninstalled torch-1.10.0a0+git36449ea\n",
      "\u001b[33m  WARNING: The scripts convert-caffe2-to-onnx and convert-onnx-to-caffe2 are installed in '/home/jetson/.local/bin' which is not on PATH.\n",
      "  Consider adding this directory to PATH or, if you prefer to suppress this warning, use --no-warn-script-location.\u001b[0m\n",
      "Successfully installed torch-1.8.1\n"
     ]
    }
   ],
   "source": [
    "!pip3 install torch==1.8.1"
   ]
  },
  {
   "cell_type": "code",
   "execution_count": 6,
   "metadata": {},
   "outputs": [
    {
     "name": "stdout",
     "output_type": "stream",
     "text": [
      "WARNING: pip is being invoked by an old script wrapper. This will fail in a future version of pip.\n",
      "Please see https://github.com/pypa/pip/issues/5599 for advice on fixing the underlying issue.\n",
      "To avoid this problem you can invoke Python with '-m pip' instead of running pip directly.\n",
      "Defaulting to user installation because normal site-packages is not writeable\n",
      "Processing ./torch-1.10.0a0+git36449ea-cp36-cp36m-linux_aarch64.whl\n",
      "Requirement already satisfied: dataclasses in /usr/local/lib/python3.6/dist-packages (from torch==1.10.0a0+git36449ea) (0.8)\n",
      "Requirement already satisfied: typing-extensions in /usr/local/lib/python3.6/dist-packages (from torch==1.10.0a0+git36449ea) (4.1.1)\n",
      "Installing collected packages: torch\n",
      "  Attempting uninstall: torch\n",
      "    Found existing installation: torch 1.8.1\n",
      "    Uninstalling torch-1.8.1:\n",
      "      Successfully uninstalled torch-1.8.1\n",
      "\u001b[33m  WARNING: The scripts convert-caffe2-to-onnx, convert-onnx-to-caffe2 and torchrun are installed in '/home/jetson/.local/bin' which is not on PATH.\n",
      "  Consider adding this directory to PATH or, if you prefer to suppress this warning, use --no-warn-script-location.\u001b[0m\n",
      "Successfully installed torch-1.10.0a0+git36449ea\n"
     ]
    }
   ],
   "source": [
    "!pip3 install torch-1.10.0a0+git36449ea-cp36-cp36m-linux_aarch64.whl"
   ]
  },
  {
   "cell_type": "code",
   "execution_count": null,
   "metadata": {},
   "outputs": [],
   "source": [
    "import cv2 as cv\n",
    "\n",
    "def camera():\n",
    "    global imageG\n",
    "    global Delay\n",
    "    # Open camera\n",
    "    capture = cv.VideoCapture(0)\n",
    "    # Loop when the camera is normally opened\n",
    "    while capture.isOpened():\n",
    "        try:\n",
    "            # Read every frame of the camera\n",
    "            _, img = capture.read()\n",
    "            # Uniform image size\n",
    "            img = cv.resize(img, (640, 480))\n",
    "#             cv.line(img, (320, 0), (320, 480), color=(0, 255, 0), thickness=1)\n",
    "#             cv.line(img, (0, 240), (640, 240), color=(0, 255, 0), thickness=1)\n",
    "#             img = sorting.Sorting_grap(img, color_hsv)\n",
    "            imageG = img\n",
    "            if Detect == 1:\n",
    "                k = moveBras()\n",
    "                if k==0 and Delay<0:\n",
    "                    goToPositionSuivante()\n",
    "                else :\n",
    "                    Delay -= 1\n",
    "            if model == 'Exit':\n",
    "                cv.destroyAllWindows()\n",
    "                capture.release()\n",
    "                break\n",
    "              # Add text\n",
    "            imgbox.value = cv.imencode('.jpg', imageG)[1].tobytes()\n",
    "        except KeyboardInterrupt:capture.release()"
   ]
  },
  {
   "cell_type": "code",
   "execution_count": 1,
   "metadata": {},
   "outputs": [
    {
     "name": "stdout",
     "output_type": "stream",
     "text": [
      "WARNING: pip is being invoked by an old script wrapper. This will fail in a future version of pip.\n",
      "Please see https://github.com/pypa/pip/issues/5599 for advice on fixing the underlying issue.\n",
      "To avoid this problem you can invoke Python with '-m pip' instead of running pip directly.\n",
      "Defaulting to user installation because normal site-packages is not writeable\n",
      "Processing ./torchvision-0.11.0a0+fa347eb-cp36-cp36m-linux_aarch64.whl\n",
      "Requirement already satisfied: pillow!=8.3.0,>=5.3.0 in /home/jetson/.local/lib/python3.6/site-packages (from torchvision==0.11.0a0+fa347eb) (8.4.0)\n",
      "Requirement already satisfied: numpy in /home/jetson/.local/lib/python3.6/site-packages (from torchvision==0.11.0a0+fa347eb) (1.19.2)\n",
      "Requirement already satisfied: torch in /home/jetson/.local/lib/python3.6/site-packages (from torchvision==0.11.0a0+fa347eb) (1.10.0a0+git36449ea)\n",
      "Requirement already satisfied: dataclasses in /usr/local/lib/python3.6/dist-packages (from torch->torchvision==0.11.0a0+fa347eb) (0.8)\n",
      "Requirement already satisfied: typing-extensions in /usr/local/lib/python3.6/dist-packages (from torch->torchvision==0.11.0a0+fa347eb) (4.1.1)\n",
      "Installing collected packages: torchvision\n",
      "  Attempting uninstall: torchvision\n",
      "    Found existing installation: torchvision 0.9.1\n",
      "    Uninstalling torchvision-0.9.1:\n",
      "      Successfully uninstalled torchvision-0.9.1\n",
      "Successfully installed torchvision-0.11.0a0+fa347eb\n"
     ]
    }
   ],
   "source": [
    "!pip3 install torchvision-0.11.0a0+fa347eb-cp36-cp36m-linux_aarch64.whl"
   ]
  }
 ],
 "metadata": {
  "kernelspec": {
   "display_name": "Python 3",
   "language": "python",
   "name": "python3"
  },
  "language_info": {
   "codemirror_mode": {
    "name": "ipython",
    "version": 3
   },
   "file_extension": ".py",
   "mimetype": "text/x-python",
   "name": "python",
   "nbconvert_exporter": "python",
   "pygments_lexer": "ipython3",
   "version": "3.6.9"
  }
 },
 "nbformat": 4,
 "nbformat_minor": 4
}
