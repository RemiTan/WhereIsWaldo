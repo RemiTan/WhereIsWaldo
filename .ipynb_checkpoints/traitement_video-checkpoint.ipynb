{
 "cells": [
  {
   "cell_type": "markdown",
   "metadata": {},
   "source": [
    "# FICHIER traitement_video - Code principal"
   ]
  },
  {
   "cell_type": "markdown",
   "metadata": {},
   "source": [
    "Ce fichier a pour objectif de lancer la détection, faire bouger le robot, et le faire réagir en fonction des formes qu'il détecte : il pointe les ronds roses, il danse en présence des triangles roses, et il bippe en présence des carrés roses."
   ]
  },
  {
   "cell_type": "markdown",
   "metadata": {},
   "source": [
    "## Importations et initialisation"
   ]
  },
  {
   "cell_type": "code",
   "execution_count": 1,
   "metadata": {},
   "outputs": [],
   "source": [
    "import threading\n",
    "import time\n",
    "import numpy as np\n",
    "import os\n",
    "\n",
    "import cv2 as cv\n",
    "import threading\n",
    "\n",
    "# from dofbot_config import *\n",
    "import ipywidgets as widgets\n",
    "from IPython.display import display\n",
    "\n",
    "import inspect\n",
    "import ctypes\n",
    "from echelle import *\n",
    "from dance import *\n",
    "\n",
    "from Arm_Lib import Arm_Device\n",
    "Arm = Arm_Device()\n",
    "s_time=1000\n",
    "angleBras=85\n",
    "Detect = 0\n",
    "Delay = 20\n",
    "compteurDetect = 0"
   ]
  },
  {
   "cell_type": "code",
   "execution_count": 2,
   "metadata": {},
   "outputs": [],
   "source": [
    "# Initialization mode\n",
    "model = 'General'\n",
    "posActuelle = 0"
   ]
  },
  {
   "cell_type": "markdown",
   "metadata": {},
   "source": [
    "## Layout : Boutons et rendu vidéo"
   ]
  },
  {
   "cell_type": "code",
   "execution_count": 3,
   "metadata": {},
   "outputs": [],
   "source": [
    "# Create layout\n",
    "button_layout  = widgets.Layout(width='200px', height='70px', align_self='center')\n",
    "# Output printing\n",
    "output = widgets.Output()\n",
    "# Exit button\n",
    "exit_button = widgets.Button(description='Exit', button_style='danger', layout=button_layout)\n",
    "# Detection button\n",
    "detec_button = widgets.Button(description='Detection', button_style='success', layout=button_layout)\n",
    "# Photo button\n",
    "photo_button = widgets.Button(description='Photo', button_style='success', layout=button_layout)\n",
    "# Image control\n",
    "imgbox = widgets.Image(format='jpg', height=480, width=640, layout=widgets.Layout(align_self='center'))\n",
    "# Vertical placement\n",
    "controls_box = widgets.VBox([imgbox, exit_button, detec_button, photo_button], layout=widgets.Layout(align_self='center'))\n",
    "# ['auto', 'flex-start', 'flex-end', 'center', 'baseline', 'stretch', 'inherit', 'initial', 'unset']"
   ]
  },
  {
   "cell_type": "code",
   "execution_count": 4,
   "metadata": {},
   "outputs": [],
   "source": [
    "def exit_button_Callback(value):\n",
    "    global model\n",
    "    model = 'Exit'\n",
    "#     with output: print(model)\n",
    "exit_button.on_click(exit_button_Callback)\n",
    "\n",
    "def photo_button_Callback(value):\n",
    "    global imageG\n",
    "    print(\"heuyyy\")\n",
    "    fichiers = os.listdir('./photos')\n",
    "    nbFichiers = len(fichiers)\n",
    "    print(nbFichiers)\n",
    "    adresse = \"./photos/plancheCamRobot\"+str(nbFichiers)+\".png\"\n",
    "    cv.imwrite(adresse, imageG)\n",
    "photo_button.on_click(photo_button_Callback)\n",
    "\n",
    "def detec_button_Callback(value):\n",
    "    global Detect\n",
    "    Detect=1\n",
    "detec_button.on_click(detec_button_Callback)"
   ]
  },
  {
   "cell_type": "markdown",
   "metadata": {},
   "source": [
    "## Fonction principale de mouvement du bras : analyse de l'image, détection des contours, actions en conséquence des objets détectés"
   ]
  },
  {
   "cell_type": "code",
   "execution_count": 5,
   "metadata": {},
   "outputs": [],
   "source": [
    "def moveBras():\n",
    "    global imageG\n",
    "    global angleBras\n",
    "    global Detect\n",
    "    global compteurDetect\n",
    "    \n",
    "    # Initialisation et analyse d'image\n",
    "    (lowerb, upperb) = ((149,112,104),(201,255,255))\n",
    "    color_mask = imageG.copy()\n",
    "    hsv_img = cv.cvtColor(imageG, cv.COLOR_BGR2HSV)\n",
    "    color = cv.inRange(hsv_img, lowerb, upperb)\n",
    "    color_mask[color == 0] = [0, 0, 0]\n",
    "    gray_img = cv.cvtColor(color_mask, cv.COLOR_RGB2GRAY)\n",
    "    kernel = cv.getStructuringElement(cv.MORPH_RECT, (5, 5))\n",
    "    dst_img = cv.morphologyEx(gray_img, cv.MORPH_CLOSE, kernel)\n",
    "    ret, binary = cv.threshold(dst_img, 10, 255, cv.THRESH_BINARY)\n",
    "    contours, heriachy = cv.findContours(binary, cv.RETR_EXTERNAL, cv.CHAIN_APPROX_SIMPLE)  # python3\n",
    "    \n",
    "    for i, cnt in enumerate(contours):\n",
    "        mm = cv.moments(cnt)\n",
    "        print('contour', cnt)\n",
    "        print('mm',mm)\n",
    "        if mm['m00'] == 0:\n",
    "            continue\n",
    "        cx = mm['m10'] / mm['m00']\n",
    "        cy = mm['m01'] / mm['m00']\n",
    "        area = cv.contourArea(cnt)\n",
    "        approx = cv.approxPolyDP(cnt,0.02*cv.arcLength(cnt, True),True) # Nombre de côtés du polynome détecté\n",
    "        print('CX, CY', cx,cy)\n",
    "        # SI C'EST UN CERCLE (8 côtés ou plus)\n",
    "        if area > 500.0 and len(approx) >= 7 : \n",
    "            (x, y) = (np.int(cx), np.int(cy))\n",
    "            imageG = cv.circle(imageG,(x,y),5,(0,255,0),-1)\n",
    "            #on centre le cercle sur l'image = on pivote le bras pour qu'il soit pile en face\n",
    "            if x<310:\n",
    "                if x<160:\n",
    "                    angleBras+=5\n",
    "                    Arm.Arm_serial_servo_write(1, angleBras, s_time)\n",
    "                    time.sleep(0.5)\n",
    "                else :\n",
    "                    angleBras += 1\n",
    "                    Arm.Arm_serial_servo_write(1, angleBras, s_time)\n",
    "                    time.sleep(1)\n",
    "                compteurDetect -=1\n",
    "            elif x>330:\n",
    "                if x<480:\n",
    "                    angleBras-=5\n",
    "                    Arm.Arm_serial_servo_write(1, angleBras, s_time)\n",
    "                    time.sleep(0.5)\n",
    "                else :\n",
    "                    angleBras -= 1\n",
    "                    Arm.Arm_serial_servo_write(1, angleBras, s_time)\n",
    "                    time.sleep(1)\n",
    "                compteurDetect -=1\n",
    "            else:\n",
    "                if compteurDetect >= 2 :\n",
    "                    allerADistance(Arm, distanceFromY(y), angleBras+1)\n",
    "                    time.sleep(5)\n",
    "                    observation()\n",
    "                    Detect = 0\n",
    "                else :\n",
    "                    compteurDetect += 1\n",
    "            return 1\n",
    "        \n",
    "        # SI C'EST UN CARRE\n",
    "        if area > 500.0 and len(approx) == 4 : \n",
    "            Arm.Arm_Buzzer_On(1)\n",
    "            \n",
    "        # SI C'EST UN TRIANGLE\n",
    "        if area > 500.0 and len(approx) == 3 : \n",
    "            dance(Arm)\n",
    "    return 0"
   ]
  },
  {
   "cell_type": "code",
   "execution_count": 6,
   "metadata": {},
   "outputs": [],
   "source": [
    "def observation() : # Mise en position d'observation\n",
    "    Arm.Arm_serial_servo_write6_array([angleBras, 125, 0, 0, 90, 30],s_time)"
   ]
  },
  {
   "cell_type": "code",
   "execution_count": 7,
   "metadata": {},
   "outputs": [],
   "source": [
    "def distanceFromY(y): # Déduire la distance à laquelle pointer en fonction de la distance de l'objet en pixel (y)\n",
    "    Donnees = [0,0,0,14,34,65,90,117,145,176,212,245,269,302,339,378,413,461,480,480]\n",
    "    i=0\n",
    "    while (y > Donnees[i] and i<25):\n",
    "        i += 1\n",
    "    return (i-1)"
   ]
  },
  {
   "cell_type": "code",
   "execution_count": 8,
   "metadata": {},
   "outputs": [],
   "source": [
    "import ctypes\n",
    "\n",
    "def goToPositionSuivante(): # Mouvement périodique du bras (il pivote pour parcourir tout son environnement)\n",
    "    global posActuelle\n",
    "    global Delay\n",
    "    global angleBras\n",
    "    positions = [85,125,160,125,85,45,10,45]\n",
    "    posActuelle = (posActuelle+1)%8\n",
    "    angleBras = positions[posActuelle]\n",
    "    Arm.Arm_serial_servo_write6_array([angleBras, 125, 0, 0, 90, 30],s_time)\n",
    "    Delay=20"
   ]
  },
  {
   "cell_type": "markdown",
   "metadata": {},
   "source": [
    " "
   ]
  },
  {
   "cell_type": "markdown",
   "metadata": {},
   "source": [
    "## Gestion de la caméra"
   ]
  },
  {
   "cell_type": "code",
   "execution_count": 9,
   "metadata": {},
   "outputs": [],
   "source": [
    "def camera():\n",
    "    global imageG\n",
    "    global Delay\n",
    "    # Open camera\n",
    "    capture = cv.VideoCapture(0)\n",
    "    # Loop when the camera is normally opened\n",
    "    while capture.isOpened():\n",
    "        try:\n",
    "            # Read every frame of the camera\n",
    "            _, img = capture.read()\n",
    "            # Uniform image size\n",
    "            img = cv.resize(img, (640, 480))\n",
    "#             cv.line(img, (320, 0), (320, 480), color=(0, 255, 0), thickness=1)\n",
    "#             cv.line(img, (0, 240), (640, 240), color=(0, 255, 0), thickness=1)\n",
    "#             img = sorting.Sorting_grap(img, color_hsv)\n",
    "            imageG = img\n",
    "            if Detect == 1:\n",
    "                k = moveBras()\n",
    "                if k==0 and Delay<0:\n",
    "                    goToPositionSuivante()\n",
    "                else :\n",
    "                    Delay -= 1\n",
    "            if model == 'Exit':\n",
    "                cv.destroyAllWindows()\n",
    "                capture.release()\n",
    "                break\n",
    "              # Add text\n",
    "            imgbox.value = cv.imencode('.jpg', imageG)[1].tobytes()\n",
    "        except KeyboardInterrupt:capture.release()"
   ]
  },
  {
   "cell_type": "markdown",
   "metadata": {},
   "source": [
    " "
   ]
  },
  {
   "cell_type": "markdown",
   "metadata": {},
   "source": [
    "## Position initiale du bras et démarrage de la caméra"
   ]
  },
  {
   "cell_type": "code",
   "execution_count": 10,
   "metadata": {},
   "outputs": [
    {
     "data": {
      "application/vnd.jupyter.widget-view+json": {
       "model_id": "f1c4c05f207a4ef68dcfd6df1da8e24a",
       "version_major": 2,
       "version_minor": 0
      },
      "text/plain": [
       "VBox(children=(Image(value=b'', format='jpg', height='480', layout=\"Layout(align_self='center')\", width='640')…"
      ]
     },
     "metadata": {},
     "output_type": "display_data"
    },
    {
     "data": {
      "application/vnd.jupyter.widget-view+json": {
       "model_id": "05c93c92ae1a48cf864d07451fc18d96",
       "version_major": 2,
       "version_minor": 0
      },
      "text/plain": [
       "Output()"
      ]
     },
     "metadata": {},
     "output_type": "display_data"
    }
   ],
   "source": [
    "Arm.Arm_serial_servo_write6_array([angleBras, 125, 0, 0, 90, 30],s_time)\n",
    "display(controls_box,output)\n",
    "threading.Thread(target=camera, ).start()"
   ]
  },
  {
   "cell_type": "code",
   "execution_count": null,
   "metadata": {},
   "outputs": [],
   "source": []
  },
  {
   "cell_type": "code",
   "execution_count": null,
   "metadata": {},
   "outputs": [],
   "source": []
  }
 ],
 "metadata": {
  "kernelspec": {
   "display_name": "Python 3",
   "language": "python",
   "name": "python3"
  },
  "language_info": {
   "codemirror_mode": {
    "name": "ipython",
    "version": 3
   },
   "file_extension": ".py",
   "mimetype": "text/x-python",
   "name": "python",
   "nbconvert_exporter": "python",
   "pygments_lexer": "ipython3",
   "version": "3.6.9"
  }
 },
 "nbformat": 4,
 "nbformat_minor": 4
}
