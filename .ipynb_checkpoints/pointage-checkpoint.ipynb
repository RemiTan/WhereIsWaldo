{
 "cells": [
  {
   "cell_type": "markdown",
   "metadata": {},
   "source": [
    "Test de pointage du carré jaune"
   ]
  },
  {
   "cell_type": "code",
   "execution_count": 1,
   "metadata": {},
   "outputs": [],
   "source": [
    "import threading\n",
    "import time\n",
    "\n",
    "import inspect\n",
    "import ctypes\n",
    "\n",
    "from Arm_Lib import Arm_Device\n",
    "Arm = Arm_Device()\n",
    "s_time=1000"
   ]
  },
  {
   "cell_type": "code",
   "execution_count": 2,
   "metadata": {},
   "outputs": [],
   "source": [
    "def pointeYellow():\n",
    "    Arm.Arm_serial_servo_write(1, 60, s_time)\n",
    "    time.sleep(0.01)\n",
    "    Arm.Arm_serial_servo_write(2, 30, s_time)\n",
    "    time.sleep(0.01)\n",
    "    Arm.Arm_serial_servo_write(3, 55, s_time)\n",
    "    time.sleep(0.01)\n",
    "    Arm.Arm_serial_servo_write(4, 58, s_time)\n",
    "    time.sleep(0.5)\n",
    "    Arm.Arm_serial_servo_write(6, 170, s_time)\n",
    "    time.sleep(0.01)\n",
    "\n",
    "def pointeRed():\n",
    "    Arm.Arm_serial_servo_write(1, 114, s_time)\n",
    "    time.sleep(0.01)\n",
    "    Arm.Arm_serial_servo_write(2, 30, s_time)\n",
    "    time.sleep(0.01)\n",
    "    Arm.Arm_serial_servo_write(3, 55, s_time)\n",
    "    time.sleep(0.01)\n",
    "    Arm.Arm_serial_servo_write(4, 55, s_time)\n",
    "    time.sleep(0.5)\n",
    "    Arm.Arm_serial_servo_write(6, 170, s_time)\n",
    "    time.sleep(0.01)\n",
    "    \n",
    "def pointeBlue():\n",
    "    Arm.Arm_serial_servo_write(1, 42, s_time)\n",
    "    time.sleep(0.01)\n",
    "    Arm.Arm_serial_servo_write(2, 63, s_time)\n",
    "    time.sleep(0.01)\n",
    "    Arm.Arm_serial_servo_write(3, 30, s_time)\n",
    "    time.sleep(0.01)\n",
    "    Arm.Arm_serial_servo_write(4, 20, s_time)\n",
    "    time.sleep(0.5)\n",
    "    Arm.Arm_serial_servo_write(6, 170, s_time)\n",
    "    time.sleep(0.01)\n",
    "\n",
    "def pointeGreen():\n",
    "    Arm.Arm_serial_servo_write(1, 135, s_time)\n",
    "    time.sleep(0.01)\n",
    "    Arm.Arm_serial_servo_write(2, 63, s_time)\n",
    "    time.sleep(0.01)\n",
    "    Arm.Arm_serial_servo_write(3, 30, s_time)\n",
    "    time.sleep(0.01)\n",
    "    Arm.Arm_serial_servo_write(4, 20, s_time)\n",
    "    time.sleep(0.5)\n",
    "    Arm.Arm_serial_servo_write(6, 170, s_time)\n",
    "    time.sleep(0.01)\n",
    "    \n",
    "def pointeGray():\n",
    "    Arm.Arm_serial_servo_write(1, 90, s_time)\n",
    "    time.sleep(0.01)\n",
    "    Arm.Arm_serial_servo_write(2, 57, s_time)\n",
    "    time.sleep(0.01)\n",
    "    Arm.Arm_serial_servo_write(3, 30, s_time)\n",
    "    time.sleep(0.01)\n",
    "    Arm.Arm_serial_servo_write(4, 35, s_time)\n",
    "    time.sleep(0.5)\n",
    "    Arm.Arm_serial_servo_write(6, 170, s_time)\n",
    "    time.sleep(0.01)"
   ]
  },
  {
   "cell_type": "code",
   "execution_count": 3,
   "metadata": {},
   "outputs": [],
   "source": [
    "def gardeAVous():\n",
    "    Arm.Arm_serial_servo_write(1, 90, s_time)\n",
    "    time.sleep(0.01)\n",
    "    Arm.Arm_serial_servo_write(2, 90, s_time)\n",
    "    time.sleep(0.01)\n",
    "    Arm.Arm_serial_servo_write(3, 90, s_time)\n",
    "    time.sleep(0.01)\n",
    "    Arm.Arm_serial_servo_write(4, 90, s_time)\n",
    "    time.sleep(0.01)\n",
    "    Arm.Arm_serial_servo_write(5, 90, s_time)\n",
    "    time.sleep(0.01)\n",
    "    Arm.Arm_serial_servo_write(6, 40, s_time)\n",
    "    time.sleep(0.01)"
   ]
  },
  {
   "cell_type": "code",
   "execution_count": 4,
   "metadata": {},
   "outputs": [],
   "source": [
    "for i in range(2):\n",
    "    gardeAVous()\n",
    "    time.sleep(1)\n",
    "    pointeGray()\n",
    "    time.sleep(1.5)\n",
    "    gardeAVous()\n",
    "    time.sleep(1)\n",
    "    pointeRed()\n",
    "    time.sleep(1.5)\n",
    "    gardeAVous()\n",
    "    time.sleep(1)\n",
    "    pointeYellow()\n",
    "    time.sleep(1.5)\n",
    "    gardeAVous()\n",
    "    time.sleep(1)\n",
    "    pointeGreen()\n",
    "    time.sleep(1.5)\n",
    "    gardeAVous()\n",
    "    time.sleep(1)\n",
    "    pointeBlue()\n",
    "    time.sleep(1.5)\n",
    "    gardeAVous()"
   ]
  },
  {
   "cell_type": "code",
   "execution_count": 5,
   "metadata": {},
   "outputs": [],
   "source": [
    "gardeAVous()"
   ]
  },
  {
   "cell_type": "code",
   "execution_count": 6,
   "metadata": {},
   "outputs": [],
   "source": [
    "pointeYellow()"
   ]
  },
  {
   "cell_type": "code",
   "execution_count": 7,
   "metadata": {},
   "outputs": [],
   "source": [
    "pointeRed()"
   ]
  },
  {
   "cell_type": "code",
   "execution_count": null,
   "metadata": {},
   "outputs": [],
   "source": []
  },
  {
   "cell_type": "code",
   "execution_count": 8,
   "metadata": {},
   "outputs": [],
   "source": [
    "def observation() :\n",
    "    Arm.Arm_serial_servo_write6_array([67, 125, 0, 0, 90, 30],s_time)"
   ]
  },
  {
   "cell_type": "code",
   "execution_count": 9,
   "metadata": {},
   "outputs": [],
   "source": [
    "observation()"
   ]
  },
  {
   "cell_type": "code",
   "execution_count": null,
   "metadata": {},
   "outputs": [],
   "source": []
  },
  {
   "cell_type": "code",
   "execution_count": 11,
   "metadata": {},
   "outputs": [],
   "source": [
    "gardeAVous()"
   ]
  },
  {
   "cell_type": "code",
   "execution_count": null,
   "metadata": {},
   "outputs": [],
   "source": []
  }
 ],
 "metadata": {
  "kernelspec": {
   "display_name": "Python 3",
   "language": "python",
   "name": "python3"
  },
  "language_info": {
   "codemirror_mode": {
    "name": "ipython",
    "version": 3
   },
   "file_extension": ".py",
   "mimetype": "text/x-python",
   "name": "python",
   "nbconvert_exporter": "python",
   "pygments_lexer": "ipython3",
   "version": "3.6.9"
  }
 },
 "nbformat": 4,
 "nbformat_minor": 4
}
